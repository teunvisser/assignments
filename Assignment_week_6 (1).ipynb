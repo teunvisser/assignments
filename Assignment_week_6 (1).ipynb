{
 "cells": [
  {
   "cell_type": "markdown",
   "metadata": {
    "collapsed": true
   },
   "source": [
    "# Assignment for week 6\n",
    "\n",
    "Use the following table to provide us with\n",
    "\n",
    "|name | ANR|\n",
    "|----|----|\n",
    "|Bram Groenewoud| 342354|\n",
    "|Teun Visser| 413508|"
   ]
  },
  {
   "cell_type": "markdown",
   "metadata": {},
   "source": [
    "You need to read the data of salaries.csv\n",
    "Call the dataframe s.\n",
    "If you get the wrong output (all oberservations per row in one column), please look at the \"separator\" in the csv-file and adjust the read command, to that each observations is in one cell."
   ]
  },
  {
   "cell_type": "code",
   "execution_count": 6,
   "metadata": {
    "collapsed": false
   },
   "outputs": [
    {
     "data": {
      "text/html": [
       "<table>\n",
       "<thead><tr><th scope=col>X</th><th scope=col>rank</th><th scope=col>discipline</th><th scope=col>yrs.since.phd</th><th scope=col>yrs.service</th><th scope=col>sex</th><th scope=col>salary</th></tr></thead>\n",
       "<tbody>\n",
       "\t<tr><td> 1         </td><td> Prof      </td><td> B         </td><td>19         </td><td>18         </td><td> Male      </td><td>139750     </td></tr>\n",
       "\t<tr><td> 2         </td><td> Prof      </td><td> B         </td><td>20         </td><td>16         </td><td> Male      </td><td>173200     </td></tr>\n",
       "\t<tr><td> 3         </td><td> AsstProf  </td><td> B         </td><td> 4         </td><td> 3         </td><td> Male      </td><td> 79750     </td></tr>\n",
       "\t<tr><td> 4         </td><td> Prof      </td><td> B         </td><td>45         </td><td>39         </td><td> Male      </td><td>115000     </td></tr>\n",
       "\t<tr><td> 5         </td><td> Prof      </td><td> B         </td><td>40         </td><td>41         </td><td> Male      </td><td>141500     </td></tr>\n",
       "\t<tr><td> 6         </td><td> AssocProf </td><td> B         </td><td> 6         </td><td> 6         </td><td> Male      </td><td> 97000     </td></tr>\n",
       "\t<tr><td> 7         </td><td> Prof      </td><td> B         </td><td>30         </td><td>23         </td><td> Male      </td><td>175000     </td></tr>\n",
       "\t<tr><td> 8         </td><td> Prof      </td><td> B         </td><td>45         </td><td>45         </td><td> Male      </td><td>147765     </td></tr>\n",
       "\t<tr><td> 9         </td><td> Prof      </td><td> B         </td><td>21         </td><td>20         </td><td> Male      </td><td>119250     </td></tr>\n",
       "\t<tr><td>10         </td><td> Prof      </td><td> B         </td><td>18         </td><td>18         </td><td> Female    </td><td>129000     </td></tr>\n",
       "\t<tr><td>11         </td><td> AssocProf </td><td> B         </td><td>12         </td><td> 8         </td><td> Male      </td><td>119800     </td></tr>\n",
       "\t<tr><td>12         </td><td> AsstProf  </td><td> B         </td><td> 7         </td><td> 2         </td><td> Male      </td><td> 79800     </td></tr>\n",
       "\t<tr><td>13         </td><td> AsstProf  </td><td> B         </td><td> 1         </td><td> 1         </td><td> Male      </td><td> 77700     </td></tr>\n",
       "\t<tr><td>14         </td><td> AsstProf  </td><td> B         </td><td> 2         </td><td> 0         </td><td> Male      </td><td> 78000     </td></tr>\n",
       "\t<tr><td>15         </td><td> Prof      </td><td> B         </td><td>20         </td><td>18         </td><td> Male      </td><td>104800     </td></tr>\n",
       "\t<tr><td>16         </td><td> Prof      </td><td> B         </td><td>12         </td><td> 3         </td><td> Male      </td><td>117150     </td></tr>\n",
       "\t<tr><td>17         </td><td> Prof      </td><td> B         </td><td>19         </td><td>20         </td><td> Male      </td><td>101000     </td></tr>\n",
       "\t<tr><td>18         </td><td> Prof      </td><td> A         </td><td>38         </td><td>34         </td><td> Male      </td><td>103450     </td></tr>\n",
       "\t<tr><td>19         </td><td> Prof      </td><td> A         </td><td>37         </td><td>23         </td><td> Male      </td><td>124750     </td></tr>\n",
       "\t<tr><td>20         </td><td> Prof      </td><td> A         </td><td>39         </td><td>36         </td><td> Female    </td><td>137000     </td></tr>\n",
       "\t<tr><td>21         </td><td> Prof      </td><td> A         </td><td>31         </td><td>26         </td><td> Male      </td><td> 89565     </td></tr>\n",
       "\t<tr><td>22         </td><td> Prof      </td><td> A         </td><td>36         </td><td>31         </td><td> Male      </td><td>102580     </td></tr>\n",
       "\t<tr><td>23         </td><td> Prof      </td><td> A         </td><td>34         </td><td>30         </td><td> Male      </td><td> 93904     </td></tr>\n",
       "\t<tr><td>24         </td><td> Prof      </td><td> A         </td><td>24         </td><td>19         </td><td> Male      </td><td>113068     </td></tr>\n",
       "\t<tr><td>25         </td><td> AssocProf </td><td> A         </td><td>13         </td><td> 8         </td><td> Female    </td><td> 74830     </td></tr>\n",
       "\t<tr><td>26         </td><td> Prof      </td><td> A         </td><td>21         </td><td> 8         </td><td> Male      </td><td>106294     </td></tr>\n",
       "\t<tr><td>27         </td><td> Prof      </td><td> A         </td><td>35         </td><td>23         </td><td> Male      </td><td>134885     </td></tr>\n",
       "\t<tr><td>28         </td><td> AsstProf  </td><td> B         </td><td> 5         </td><td> 3         </td><td> Male      </td><td> 82379     </td></tr>\n",
       "\t<tr><td>29         </td><td> AsstProf  </td><td> B         </td><td>11         </td><td> 0         </td><td> Male      </td><td> 77000     </td></tr>\n",
       "\t<tr><td>30         </td><td> Prof      </td><td> B         </td><td>12         </td><td> 8         </td><td> Male      </td><td>118223     </td></tr>\n",
       "\t<tr><td>...</td><td>...</td><td>...</td><td>...</td><td>...</td><td>...</td><td>...</td></tr>\n",
       "\t<tr><td>368        </td><td> AssocProf </td><td> A         </td><td>10         </td><td> 1         </td><td> Male      </td><td>108413     </td></tr>\n",
       "\t<tr><td>369        </td><td> Prof      </td><td> A         </td><td>35         </td><td>30         </td><td> Male      </td><td>131950     </td></tr>\n",
       "\t<tr><td>370        </td><td> Prof      </td><td> A         </td><td>33         </td><td>31         </td><td> Male      </td><td>134690     </td></tr>\n",
       "\t<tr><td>371        </td><td> AssocProf </td><td> A         </td><td>13         </td><td> 8         </td><td> Male      </td><td> 78182     </td></tr>\n",
       "\t<tr><td>372        </td><td> Prof      </td><td> A         </td><td>23         </td><td>20         </td><td> Male      </td><td>110515     </td></tr>\n",
       "\t<tr><td>373        </td><td> Prof      </td><td> A         </td><td>12         </td><td> 7         </td><td> Male      </td><td>109707     </td></tr>\n",
       "\t<tr><td>374        </td><td> Prof      </td><td> A         </td><td>30         </td><td>26         </td><td> Male      </td><td>136660     </td></tr>\n",
       "\t<tr><td>375        </td><td> Prof      </td><td> A         </td><td>27         </td><td>19         </td><td> Male      </td><td>103275     </td></tr>\n",
       "\t<tr><td>376        </td><td> Prof      </td><td> A         </td><td>28         </td><td>26         </td><td> Male      </td><td>103649     </td></tr>\n",
       "\t<tr><td>377        </td><td> AsstProf  </td><td> A         </td><td> 4         </td><td> 1         </td><td> Male      </td><td> 74856     </td></tr>\n",
       "\t<tr><td>378        </td><td> AsstProf  </td><td> A         </td><td> 6         </td><td> 3         </td><td> Male      </td><td> 77081     </td></tr>\n",
       "\t<tr><td>379        </td><td> Prof      </td><td> A         </td><td>38         </td><td>38         </td><td> Male      </td><td>150680     </td></tr>\n",
       "\t<tr><td>380        </td><td> AssocProf </td><td> A         </td><td>11         </td><td> 8         </td><td> Male      </td><td>104121     </td></tr>\n",
       "\t<tr><td>381        </td><td> AsstProf  </td><td> A         </td><td> 8         </td><td> 3         </td><td> Male      </td><td> 75996     </td></tr>\n",
       "\t<tr><td>382        </td><td> Prof      </td><td> A         </td><td>27         </td><td>23         </td><td> Male      </td><td>172505     </td></tr>\n",
       "\t<tr><td>383        </td><td> AssocProf </td><td> A         </td><td> 8         </td><td> 5         </td><td> Male      </td><td> 86895     </td></tr>\n",
       "\t<tr><td>384        </td><td> Prof      </td><td> A         </td><td>44         </td><td>44         </td><td> Male      </td><td>105000     </td></tr>\n",
       "\t<tr><td>385        </td><td> Prof      </td><td> A         </td><td>27         </td><td>21         </td><td> Male      </td><td>125192     </td></tr>\n",
       "\t<tr><td>386        </td><td> Prof      </td><td> A         </td><td>15         </td><td> 9         </td><td> Male      </td><td>114330     </td></tr>\n",
       "\t<tr><td>387        </td><td> Prof      </td><td> A         </td><td>29         </td><td>27         </td><td> Male      </td><td>139219     </td></tr>\n",
       "\t<tr><td>388        </td><td> Prof      </td><td> A         </td><td>29         </td><td>15         </td><td> Male      </td><td>109305     </td></tr>\n",
       "\t<tr><td>389        </td><td> Prof      </td><td> A         </td><td>38         </td><td>36         </td><td> Male      </td><td>119450     </td></tr>\n",
       "\t<tr><td>390        </td><td> Prof      </td><td> A         </td><td>33         </td><td>18         </td><td> Male      </td><td>186023     </td></tr>\n",
       "\t<tr><td>391        </td><td> Prof      </td><td> A         </td><td>40         </td><td>19         </td><td> Male      </td><td>166605     </td></tr>\n",
       "\t<tr><td>392        </td><td> Prof      </td><td> A         </td><td>30         </td><td>19         </td><td> Male      </td><td>151292     </td></tr>\n",
       "\t<tr><td>393        </td><td> Prof      </td><td> A         </td><td>33         </td><td>30         </td><td> Male      </td><td>103106     </td></tr>\n",
       "\t<tr><td>394        </td><td> Prof      </td><td> A         </td><td>31         </td><td>19         </td><td> Male      </td><td>150564     </td></tr>\n",
       "\t<tr><td>395        </td><td> Prof      </td><td> A         </td><td>42         </td><td>25         </td><td> Male      </td><td>101738     </td></tr>\n",
       "\t<tr><td>396        </td><td> Prof      </td><td> A         </td><td>25         </td><td>15         </td><td> Male      </td><td> 95329     </td></tr>\n",
       "\t<tr><td>397        </td><td> AsstProf  </td><td> A         </td><td> 8         </td><td> 4         </td><td> Male      </td><td> 81035     </td></tr>\n",
       "</tbody>\n",
       "</table>\n"
      ],
      "text/latex": [
       "\\begin{tabular}{r|lllllll}\n",
       " X & rank & discipline & yrs.since.phd & yrs.service & sex & salary\\\\\n",
       "\\hline\n",
       "\t  1          &  Prof       &  B          & 19          & 18          &  Male       & 139750     \\\\\n",
       "\t  2          &  Prof       &  B          & 20          & 16          &  Male       & 173200     \\\\\n",
       "\t  3          &  AsstProf   &  B          &  4          &  3          &  Male       &  79750     \\\\\n",
       "\t  4          &  Prof       &  B          & 45          & 39          &  Male       & 115000     \\\\\n",
       "\t  5          &  Prof       &  B          & 40          & 41          &  Male       & 141500     \\\\\n",
       "\t  6          &  AssocProf  &  B          &  6          &  6          &  Male       &  97000     \\\\\n",
       "\t  7          &  Prof       &  B          & 30          & 23          &  Male       & 175000     \\\\\n",
       "\t  8          &  Prof       &  B          & 45          & 45          &  Male       & 147765     \\\\\n",
       "\t  9          &  Prof       &  B          & 21          & 20          &  Male       & 119250     \\\\\n",
       "\t 10          &  Prof       &  B          & 18          & 18          &  Female     & 129000     \\\\\n",
       "\t 11          &  AssocProf  &  B          & 12          &  8          &  Male       & 119800     \\\\\n",
       "\t 12          &  AsstProf   &  B          &  7          &  2          &  Male       &  79800     \\\\\n",
       "\t 13          &  AsstProf   &  B          &  1          &  1          &  Male       &  77700     \\\\\n",
       "\t 14          &  AsstProf   &  B          &  2          &  0          &  Male       &  78000     \\\\\n",
       "\t 15          &  Prof       &  B          & 20          & 18          &  Male       & 104800     \\\\\n",
       "\t 16          &  Prof       &  B          & 12          &  3          &  Male       & 117150     \\\\\n",
       "\t 17          &  Prof       &  B          & 19          & 20          &  Male       & 101000     \\\\\n",
       "\t 18          &  Prof       &  A          & 38          & 34          &  Male       & 103450     \\\\\n",
       "\t 19          &  Prof       &  A          & 37          & 23          &  Male       & 124750     \\\\\n",
       "\t 20          &  Prof       &  A          & 39          & 36          &  Female     & 137000     \\\\\n",
       "\t 21          &  Prof       &  A          & 31          & 26          &  Male       &  89565     \\\\\n",
       "\t 22          &  Prof       &  A          & 36          & 31          &  Male       & 102580     \\\\\n",
       "\t 23          &  Prof       &  A          & 34          & 30          &  Male       &  93904     \\\\\n",
       "\t 24          &  Prof       &  A          & 24          & 19          &  Male       & 113068     \\\\\n",
       "\t 25          &  AssocProf  &  A          & 13          &  8          &  Female     &  74830     \\\\\n",
       "\t 26          &  Prof       &  A          & 21          &  8          &  Male       & 106294     \\\\\n",
       "\t 27          &  Prof       &  A          & 35          & 23          &  Male       & 134885     \\\\\n",
       "\t 28          &  AsstProf   &  B          &  5          &  3          &  Male       &  82379     \\\\\n",
       "\t 29          &  AsstProf   &  B          & 11          &  0          &  Male       &  77000     \\\\\n",
       "\t 30          &  Prof       &  B          & 12          &  8          &  Male       & 118223     \\\\\n",
       "\t ... & ... & ... & ... & ... & ... & ...\\\\\n",
       "\t 368         &  AssocProf  &  A          & 10          &  1          &  Male       & 108413     \\\\\n",
       "\t 369         &  Prof       &  A          & 35          & 30          &  Male       & 131950     \\\\\n",
       "\t 370         &  Prof       &  A          & 33          & 31          &  Male       & 134690     \\\\\n",
       "\t 371         &  AssocProf  &  A          & 13          &  8          &  Male       &  78182     \\\\\n",
       "\t 372         &  Prof       &  A          & 23          & 20          &  Male       & 110515     \\\\\n",
       "\t 373         &  Prof       &  A          & 12          &  7          &  Male       & 109707     \\\\\n",
       "\t 374         &  Prof       &  A          & 30          & 26          &  Male       & 136660     \\\\\n",
       "\t 375         &  Prof       &  A          & 27          & 19          &  Male       & 103275     \\\\\n",
       "\t 376         &  Prof       &  A          & 28          & 26          &  Male       & 103649     \\\\\n",
       "\t 377         &  AsstProf   &  A          &  4          &  1          &  Male       &  74856     \\\\\n",
       "\t 378         &  AsstProf   &  A          &  6          &  3          &  Male       &  77081     \\\\\n",
       "\t 379         &  Prof       &  A          & 38          & 38          &  Male       & 150680     \\\\\n",
       "\t 380         &  AssocProf  &  A          & 11          &  8          &  Male       & 104121     \\\\\n",
       "\t 381         &  AsstProf   &  A          &  8          &  3          &  Male       &  75996     \\\\\n",
       "\t 382         &  Prof       &  A          & 27          & 23          &  Male       & 172505     \\\\\n",
       "\t 383         &  AssocProf  &  A          &  8          &  5          &  Male       &  86895     \\\\\n",
       "\t 384         &  Prof       &  A          & 44          & 44          &  Male       & 105000     \\\\\n",
       "\t 385         &  Prof       &  A          & 27          & 21          &  Male       & 125192     \\\\\n",
       "\t 386         &  Prof       &  A          & 15          &  9          &  Male       & 114330     \\\\\n",
       "\t 387         &  Prof       &  A          & 29          & 27          &  Male       & 139219     \\\\\n",
       "\t 388         &  Prof       &  A          & 29          & 15          &  Male       & 109305     \\\\\n",
       "\t 389         &  Prof       &  A          & 38          & 36          &  Male       & 119450     \\\\\n",
       "\t 390         &  Prof       &  A          & 33          & 18          &  Male       & 186023     \\\\\n",
       "\t 391         &  Prof       &  A          & 40          & 19          &  Male       & 166605     \\\\\n",
       "\t 392         &  Prof       &  A          & 30          & 19          &  Male       & 151292     \\\\\n",
       "\t 393         &  Prof       &  A          & 33          & 30          &  Male       & 103106     \\\\\n",
       "\t 394         &  Prof       &  A          & 31          & 19          &  Male       & 150564     \\\\\n",
       "\t 395         &  Prof       &  A          & 42          & 25          &  Male       & 101738     \\\\\n",
       "\t 396         &  Prof       &  A          & 25          & 15          &  Male       &  95329     \\\\\n",
       "\t 397         &  AsstProf   &  A          &  8          &  4          &  Male       &  81035     \\\\\n",
       "\\end{tabular}\n"
      ],
      "text/markdown": [
       "\n",
       "X | rank | discipline | yrs.since.phd | yrs.service | sex | salary | \n",
       "|---|---|---|---|---|---|---|---|---|---|---|---|---|---|---|---|---|---|---|---|---|---|---|---|---|---|---|---|---|---|---|---|---|---|---|---|---|---|---|---|---|---|---|---|---|---|---|---|---|---|---|---|---|---|---|---|---|---|---|---|---|\n",
       "|  1          |  Prof       |  B          | 19          | 18          |  Male       | 139750      | \n",
       "|  2          |  Prof       |  B          | 20          | 16          |  Male       | 173200      | \n",
       "|  3          |  AsstProf   |  B          |  4          |  3          |  Male       |  79750      | \n",
       "|  4          |  Prof       |  B          | 45          | 39          |  Male       | 115000      | \n",
       "|  5          |  Prof       |  B          | 40          | 41          |  Male       | 141500      | \n",
       "|  6          |  AssocProf  |  B          |  6          |  6          |  Male       |  97000      | \n",
       "|  7          |  Prof       |  B          | 30          | 23          |  Male       | 175000      | \n",
       "|  8          |  Prof       |  B          | 45          | 45          |  Male       | 147765      | \n",
       "|  9          |  Prof       |  B          | 21          | 20          |  Male       | 119250      | \n",
       "| 10          |  Prof       |  B          | 18          | 18          |  Female     | 129000      | \n",
       "| 11          |  AssocProf  |  B          | 12          |  8          |  Male       | 119800      | \n",
       "| 12          |  AsstProf   |  B          |  7          |  2          |  Male       |  79800      | \n",
       "| 13          |  AsstProf   |  B          |  1          |  1          |  Male       |  77700      | \n",
       "| 14          |  AsstProf   |  B          |  2          |  0          |  Male       |  78000      | \n",
       "| 15          |  Prof       |  B          | 20          | 18          |  Male       | 104800      | \n",
       "| 16          |  Prof       |  B          | 12          |  3          |  Male       | 117150      | \n",
       "| 17          |  Prof       |  B          | 19          | 20          |  Male       | 101000      | \n",
       "| 18          |  Prof       |  A          | 38          | 34          |  Male       | 103450      | \n",
       "| 19          |  Prof       |  A          | 37          | 23          |  Male       | 124750      | \n",
       "| 20          |  Prof       |  A          | 39          | 36          |  Female     | 137000      | \n",
       "| 21          |  Prof       |  A          | 31          | 26          |  Male       |  89565      | \n",
       "| 22          |  Prof       |  A          | 36          | 31          |  Male       | 102580      | \n",
       "| 23          |  Prof       |  A          | 34          | 30          |  Male       |  93904      | \n",
       "| 24          |  Prof       |  A          | 24          | 19          |  Male       | 113068      | \n",
       "| 25          |  AssocProf  |  A          | 13          |  8          |  Female     |  74830      | \n",
       "| 26          |  Prof       |  A          | 21          |  8          |  Male       | 106294      | \n",
       "| 27          |  Prof       |  A          | 35          | 23          |  Male       | 134885      | \n",
       "| 28          |  AsstProf   |  B          |  5          |  3          |  Male       |  82379      | \n",
       "| 29          |  AsstProf   |  B          | 11          |  0          |  Male       |  77000      | \n",
       "| 30          |  Prof       |  B          | 12          |  8          |  Male       | 118223      | \n",
       "| ... | ... | ... | ... | ... | ... | ... | \n",
       "| 368         |  AssocProf  |  A          | 10          |  1          |  Male       | 108413      | \n",
       "| 369         |  Prof       |  A          | 35          | 30          |  Male       | 131950      | \n",
       "| 370         |  Prof       |  A          | 33          | 31          |  Male       | 134690      | \n",
       "| 371         |  AssocProf  |  A          | 13          |  8          |  Male       |  78182      | \n",
       "| 372         |  Prof       |  A          | 23          | 20          |  Male       | 110515      | \n",
       "| 373         |  Prof       |  A          | 12          |  7          |  Male       | 109707      | \n",
       "| 374         |  Prof       |  A          | 30          | 26          |  Male       | 136660      | \n",
       "| 375         |  Prof       |  A          | 27          | 19          |  Male       | 103275      | \n",
       "| 376         |  Prof       |  A          | 28          | 26          |  Male       | 103649      | \n",
       "| 377         |  AsstProf   |  A          |  4          |  1          |  Male       |  74856      | \n",
       "| 378         |  AsstProf   |  A          |  6          |  3          |  Male       |  77081      | \n",
       "| 379         |  Prof       |  A          | 38          | 38          |  Male       | 150680      | \n",
       "| 380         |  AssocProf  |  A          | 11          |  8          |  Male       | 104121      | \n",
       "| 381         |  AsstProf   |  A          |  8          |  3          |  Male       |  75996      | \n",
       "| 382         |  Prof       |  A          | 27          | 23          |  Male       | 172505      | \n",
       "| 383         |  AssocProf  |  A          |  8          |  5          |  Male       |  86895      | \n",
       "| 384         |  Prof       |  A          | 44          | 44          |  Male       | 105000      | \n",
       "| 385         |  Prof       |  A          | 27          | 21          |  Male       | 125192      | \n",
       "| 386         |  Prof       |  A          | 15          |  9          |  Male       | 114330      | \n",
       "| 387         |  Prof       |  A          | 29          | 27          |  Male       | 139219      | \n",
       "| 388         |  Prof       |  A          | 29          | 15          |  Male       | 109305      | \n",
       "| 389         |  Prof       |  A          | 38          | 36          |  Male       | 119450      | \n",
       "| 390         |  Prof       |  A          | 33          | 18          |  Male       | 186023      | \n",
       "| 391         |  Prof       |  A          | 40          | 19          |  Male       | 166605      | \n",
       "| 392         |  Prof       |  A          | 30          | 19          |  Male       | 151292      | \n",
       "| 393         |  Prof       |  A          | 33          | 30          |  Male       | 103106      | \n",
       "| 394         |  Prof       |  A          | 31          | 19          |  Male       | 150564      | \n",
       "| 395         |  Prof       |  A          | 42          | 25          |  Male       | 101738      | \n",
       "| 396         |  Prof       |  A          | 25          | 15          |  Male       |  95329      | \n",
       "| 397         |  AsstProf   |  A          |  8          |  4          |  Male       |  81035      | \n",
       "\n",
       "\n"
      ],
      "text/plain": [
       "    X   rank        discipline yrs.since.phd yrs.service sex      salary\n",
       "1    1   Prof        B         19            18           Male    139750\n",
       "2    2   Prof        B         20            16           Male    173200\n",
       "3    3   AsstProf    B          4             3           Male     79750\n",
       "4    4   Prof        B         45            39           Male    115000\n",
       "5    5   Prof        B         40            41           Male    141500\n",
       "6    6   AssocProf   B          6             6           Male     97000\n",
       "7    7   Prof        B         30            23           Male    175000\n",
       "8    8   Prof        B         45            45           Male    147765\n",
       "9    9   Prof        B         21            20           Male    119250\n",
       "10  10   Prof        B         18            18           Female  129000\n",
       "11  11   AssocProf   B         12             8           Male    119800\n",
       "12  12   AsstProf    B          7             2           Male     79800\n",
       "13  13   AsstProf    B          1             1           Male     77700\n",
       "14  14   AsstProf    B          2             0           Male     78000\n",
       "15  15   Prof        B         20            18           Male    104800\n",
       "16  16   Prof        B         12             3           Male    117150\n",
       "17  17   Prof        B         19            20           Male    101000\n",
       "18  18   Prof        A         38            34           Male    103450\n",
       "19  19   Prof        A         37            23           Male    124750\n",
       "20  20   Prof        A         39            36           Female  137000\n",
       "21  21   Prof        A         31            26           Male     89565\n",
       "22  22   Prof        A         36            31           Male    102580\n",
       "23  23   Prof        A         34            30           Male     93904\n",
       "24  24   Prof        A         24            19           Male    113068\n",
       "25  25   AssocProf   A         13             8           Female   74830\n",
       "26  26   Prof        A         21             8           Male    106294\n",
       "27  27   Prof        A         35            23           Male    134885\n",
       "28  28   AsstProf    B          5             3           Male     82379\n",
       "29  29   AsstProf    B         11             0           Male     77000\n",
       "30  30   Prof        B         12             8           Male    118223\n",
       "... ... ...         ...        ...           ...         ...      ...   \n",
       "368 368  AssocProf   A         10             1           Male    108413\n",
       "369 369  Prof        A         35            30           Male    131950\n",
       "370 370  Prof        A         33            31           Male    134690\n",
       "371 371  AssocProf   A         13             8           Male     78182\n",
       "372 372  Prof        A         23            20           Male    110515\n",
       "373 373  Prof        A         12             7           Male    109707\n",
       "374 374  Prof        A         30            26           Male    136660\n",
       "375 375  Prof        A         27            19           Male    103275\n",
       "376 376  Prof        A         28            26           Male    103649\n",
       "377 377  AsstProf    A          4             1           Male     74856\n",
       "378 378  AsstProf    A          6             3           Male     77081\n",
       "379 379  Prof        A         38            38           Male    150680\n",
       "380 380  AssocProf   A         11             8           Male    104121\n",
       "381 381  AsstProf    A          8             3           Male     75996\n",
       "382 382  Prof        A         27            23           Male    172505\n",
       "383 383  AssocProf   A          8             5           Male     86895\n",
       "384 384  Prof        A         44            44           Male    105000\n",
       "385 385  Prof        A         27            21           Male    125192\n",
       "386 386  Prof        A         15             9           Male    114330\n",
       "387 387  Prof        A         29            27           Male    139219\n",
       "388 388  Prof        A         29            15           Male    109305\n",
       "389 389  Prof        A         38            36           Male    119450\n",
       "390 390  Prof        A         33            18           Male    186023\n",
       "391 391  Prof        A         40            19           Male    166605\n",
       "392 392  Prof        A         30            19           Male    151292\n",
       "393 393  Prof        A         33            30           Male    103106\n",
       "394 394  Prof        A         31            19           Male    150564\n",
       "395 395  Prof        A         42            25           Male    101738\n",
       "396 396  Prof        A         25            15           Male     95329\n",
       "397 397  AsstProf    A          8             4           Male     81035"
      ]
     },
     "metadata": {},
     "output_type": "display_data"
    }
   ],
   "source": [
    "library(dplyr)\n",
    "s <-read.csv2( 'salaries.csv' , sep=\",\") \n",
    "s"
   ]
  },
  {
   "cell_type": "markdown",
   "metadata": {},
   "source": [
    "Show the data with the command head() "
   ]
  },
  {
   "cell_type": "code",
   "execution_count": 2,
   "metadata": {
    "collapsed": false
   },
   "outputs": [
    {
     "data": {
      "text/html": [
       "<table>\n",
       "<thead><tr><th scope=col>X</th><th scope=col>rank</th><th scope=col>discipline</th><th scope=col>yrs.since.phd</th><th scope=col>yrs.service</th><th scope=col>sex</th><th scope=col>salary</th></tr></thead>\n",
       "<tbody>\n",
       "\t<tr><td>1          </td><td> Prof      </td><td> B         </td><td>19         </td><td>18         </td><td> Male      </td><td>139750     </td></tr>\n",
       "\t<tr><td>2          </td><td> Prof      </td><td> B         </td><td>20         </td><td>16         </td><td> Male      </td><td>173200     </td></tr>\n",
       "\t<tr><td>3          </td><td> AsstProf  </td><td> B         </td><td> 4         </td><td> 3         </td><td> Male      </td><td> 79750     </td></tr>\n",
       "\t<tr><td>4          </td><td> Prof      </td><td> B         </td><td>45         </td><td>39         </td><td> Male      </td><td>115000     </td></tr>\n",
       "\t<tr><td>5          </td><td> Prof      </td><td> B         </td><td>40         </td><td>41         </td><td> Male      </td><td>141500     </td></tr>\n",
       "\t<tr><td>6          </td><td> AssocProf </td><td> B         </td><td> 6         </td><td> 6         </td><td> Male      </td><td> 97000     </td></tr>\n",
       "</tbody>\n",
       "</table>\n"
      ],
      "text/latex": [
       "\\begin{tabular}{r|lllllll}\n",
       " X & rank & discipline & yrs.since.phd & yrs.service & sex & salary\\\\\n",
       "\\hline\n",
       "\t 1           &  Prof       &  B          & 19          & 18          &  Male       & 139750     \\\\\n",
       "\t 2           &  Prof       &  B          & 20          & 16          &  Male       & 173200     \\\\\n",
       "\t 3           &  AsstProf   &  B          &  4          &  3          &  Male       &  79750     \\\\\n",
       "\t 4           &  Prof       &  B          & 45          & 39          &  Male       & 115000     \\\\\n",
       "\t 5           &  Prof       &  B          & 40          & 41          &  Male       & 141500     \\\\\n",
       "\t 6           &  AssocProf  &  B          &  6          &  6          &  Male       &  97000     \\\\\n",
       "\\end{tabular}\n"
      ],
      "text/markdown": [
       "\n",
       "X | rank | discipline | yrs.since.phd | yrs.service | sex | salary | \n",
       "|---|---|---|---|---|---|\n",
       "| 1           |  Prof       |  B          | 19          | 18          |  Male       | 139750      | \n",
       "| 2           |  Prof       |  B          | 20          | 16          |  Male       | 173200      | \n",
       "| 3           |  AsstProf   |  B          |  4          |  3          |  Male       |  79750      | \n",
       "| 4           |  Prof       |  B          | 45          | 39          |  Male       | 115000      | \n",
       "| 5           |  Prof       |  B          | 40          | 41          |  Male       | 141500      | \n",
       "| 6           |  AssocProf  |  B          |  6          |  6          |  Male       |  97000      | \n",
       "\n",
       "\n"
      ],
      "text/plain": [
       "  X rank        discipline yrs.since.phd yrs.service sex    salary\n",
       "1 1  Prof        B         19            18           Male  139750\n",
       "2 2  Prof        B         20            16           Male  173200\n",
       "3 3  AsstProf    B          4             3           Male   79750\n",
       "4 4  Prof        B         45            39           Male  115000\n",
       "5 5  Prof        B         40            41           Male  141500\n",
       "6 6  AssocProf   B          6             6           Male   97000"
      ]
     },
     "metadata": {},
     "output_type": "display_data"
    }
   ],
   "source": [
    "head(s)"
   ]
  },
  {
   "cell_type": "markdown",
   "metadata": {},
   "source": [
    "Show the structure of the dataset with the command str()"
   ]
  },
  {
   "cell_type": "code",
   "execution_count": 3,
   "metadata": {
    "collapsed": false
   },
   "outputs": [
    {
     "name": "stdout",
     "output_type": "stream",
     "text": [
      "'data.frame':\t397 obs. of  7 variables:\n",
      " $ X            : int  1 2 3 4 5 6 7 8 9 10 ...\n",
      " $ rank         : Factor w/ 3 levels \" AssocProf \",..: 3 3 2 3 3 1 3 3 3 3 ...\n",
      " $ discipline   : Factor w/ 2 levels \" A \",\" B \": 2 2 2 2 2 2 2 2 2 2 ...\n",
      " $ yrs.since.phd: int  19 20 4 45 40 6 30 45 21 18 ...\n",
      " $ yrs.service  : int  18 16 3 39 41 6 23 45 20 18 ...\n",
      " $ sex          : Factor w/ 2 levels \" Female \",\" Male \": 2 2 2 2 2 2 2 2 2 1 ...\n",
      " $ salary       : int  139750 173200 79750 115000 141500 97000 175000 147765 119250 129000 ...\n"
     ]
    }
   ],
   "source": [
    "str(s)"
   ]
  },
  {
   "cell_type": "markdown",
   "metadata": {},
   "source": [
    "Change the variable \"salary\" into a numeric variable, with the command as.numeric"
   ]
  },
  {
   "cell_type": "code",
   "execution_count": 4,
   "metadata": {
    "collapsed": false
   },
   "outputs": [],
   "source": [
    "s$salary <- as.numeric(s$salary)\n"
   ]
  },
  {
   "cell_type": "markdown",
   "metadata": {},
   "source": [
    "Show the new structure of the dataset with the command str()"
   ]
  },
  {
   "cell_type": "code",
   "execution_count": 5,
   "metadata": {
    "collapsed": false
   },
   "outputs": [
    {
     "name": "stdout",
     "output_type": "stream",
     "text": [
      "'data.frame':\t397 obs. of  7 variables:\n",
      " $ X            : int  1 2 3 4 5 6 7 8 9 10 ...\n",
      " $ rank         : Factor w/ 3 levels \" AssocProf \",..: 3 3 2 3 3 1 3 3 3 3 ...\n",
      " $ discipline   : Factor w/ 2 levels \" A \",\" B \": 2 2 2 2 2 2 2 2 2 2 ...\n",
      " $ yrs.since.phd: int  19 20 4 45 40 6 30 45 21 18 ...\n",
      " $ yrs.service  : int  18 16 3 39 41 6 23 45 20 18 ...\n",
      " $ sex          : Factor w/ 2 levels \" Female \",\" Male \": 2 2 2 2 2 2 2 2 2 1 ...\n",
      " $ salary       : num  139750 173200 79750 115000 141500 ...\n"
     ]
    }
   ],
   "source": [
    "str(s)"
   ]
  },
  {
   "cell_type": "code",
   "execution_count": null,
   "metadata": {
    "collapsed": true
   },
   "outputs": [],
   "source": []
  }
 ],
 "metadata": {
  "anaconda-cloud": {},
  "kernelspec": {
   "display_name": "Python 3",
   "language": "python",
   "name": "python3"
  },
  "language_info": {
   "codemirror_mode": {
    "name": "ipython",
    "version": 3
   },
   "file_extension": ".py",
   "mimetype": "text/x-python",
   "name": "python",
   "nbconvert_exporter": "python",
   "pygments_lexer": "ipython3",
   "version": "3.6.0"
  }
 },
 "nbformat": 4,
 "nbformat_minor": 1
}
