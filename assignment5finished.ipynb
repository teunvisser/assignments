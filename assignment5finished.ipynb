{
 "cells": [
  {
   "cell_type": "markdown",
   "metadata": {
    "collapsed": true
   },
   "source": [
    "# Assignment for week 8\n",
    "\n",
    "Use the following table to provide us with\n",
    "\n",
    "|name | exam number|\n",
    "|----|----|\n",
    "|Teun Visser| 413508|\n",
    "|Bram Groenewoud| 342354|"
   ]
  },
  {
   "cell_type": "markdown",
   "metadata": {},
   "source": [
    "In this assignment you will have to make a plot of the mortality due to \"Ischemic heart diseases (IHD)\". IHD are caused by the\n",
    "accumulation of fatty deposits lining the inner wall of a coronary artery, restricting blood flow to the heart. IHD alone\n",
    "were responsible for 644 000 deaths across EU countries in 2013, accounting for around 13% of all deaths. Mortality\n",
    "rates from IHD are highest in Lithuania, Latvia, the Slovak Republic, Hungary and the Czech Republic, with over 350 deaths per 100 000 population. The countries with the lowest IHD mortality rates are France, Portugal, the\n",
    "Netherlands, Spain and Belgium. Our plot is taken from http://www.oecd-ilibrary.org/docserver/download/8116231e.pdf?expires=1486219843&id=id&accname=guest&checksum=F326409CF6DCD4DC61990871F943B489 page 63. I have downloaded the data for you and saved it as a csv: mrate.csv.\n",
    "First read the data with the command read.csv2\n",
    "\n",
    "If you encounter the problem that all observations per row are in one cell, add: ,sep=\";\"\n",
    "The command should look like \n",
    "namedf <-read.csv2(\"name of file\", sep=\";\")"
   ]
  },
  {
   "cell_type": "code",
   "execution_count": null,
   "metadata": {
    "collapsed": false
   },
   "outputs": [],
   "source": [
    "s <-read.csv2(\"mrate.csv\", sep=\";\")\n"
   ]
  },
  {
   "cell_type": "markdown",
   "metadata": {},
   "source": [
    "Please have a look at the structure of data with the command str()"
   ]
  },
  {
   "cell_type": "code",
   "execution_count": null,
   "metadata": {
    "collapsed": false
   },
   "outputs": [],
   "source": [
    "str(s)\n"
   ]
  },
  {
   "cell_type": "markdown",
   "metadata": {},
   "source": [
    "Since the data are in the \"wide\" format, we need to make it in the long format with the package \"tidyr\". For the graph we need the package ggplot2."
   ]
  },
  {
   "cell_type": "markdown",
   "metadata": {},
   "source": [
    "Load the libraries ggplot2 and tidyr with the command library()"
   ]
  },
  {
   "cell_type": "code",
   "execution_count": null,
   "metadata": {
    "collapsed": false
   },
   "outputs": [],
   "source": [
    "library(ggplot2)\n",
    "library(tidyr)\n"
   ]
  },
  {
   "cell_type": "markdown",
   "metadata": {},
   "source": [
    "Now we have the most difficult part of the assignment. We need to make a new object and than convert the data in the long format with the command \"gather\".\n",
    "\n",
    "\n",
    "The command should look like\n",
    "\n",
    "\n",
    "new object <- gather(name dataframe, name of the new colum, name of the value, column:column)\n",
    "\n",
    "* For new object you can use for example p.\n",
    "* The name of our dataframe was s\n",
    "* The name of the new column could be Country (since we want the countries to be the observations). Country is a new name.\n",
    "* The name of the value could be mortality (since the numbers are Age-standardised mortality rates per 100 000 population)\n",
    "* We need the colums from the Netherlands until EU28 (so you have to fill in Netherlands:EU28)."
   ]
  },
  {
   "cell_type": "code",
   "execution_count": null,
   "metadata": {
    "collapsed": false
   },
   "outputs": [],
   "source": [
    "p <- gather(s, Country, mortality, Netherlands:EU28)\n"
   ]
  },
  {
   "cell_type": "markdown",
   "metadata": {},
   "source": [
    "Now we can make the plot with geom_line of ggplot.\n",
    "The syntax of the command would be:\n",
    "\n",
    "ggplot(name of dataframe, aes(x=x-axis, y=y-axis, color=Group)) + geom_line()\n",
    "\n",
    "* name of dataframe is p if you followed the instructions above (the long format)\n",
    "* on the x-axis you will need Year\n",
    "* on the y-axis you will need mortality\n",
    "* for color you need Country (so we have one line per country)"
   ]
  },
  {
   "cell_type": "code",
   "execution_count": null,
   "metadata": {
    "collapsed": false
   },
   "outputs": [],
   "source": [
    "ggplot(p, aes(x= Year, y= mortality, colour= Country)) + geom_line()\n"
   ]
  }
 ],
 "metadata": {
  "anaconda-cloud": {},
  "kernelspec": {
   "display_name": "R",
   "language": "R",
   "name": "ir"
  },
  "language_info": {
   "codemirror_mode": "r",
   "file_extension": ".r",
   "mimetype": "text/x-r-source",
   "name": "R",
   "pygments_lexer": "r",
   "version": "3.4.0"
  }
 },
 "nbformat": 4,
 "nbformat_minor": 1
}
